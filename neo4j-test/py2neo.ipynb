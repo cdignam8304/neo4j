{
 "cells": [
  {
   "cell_type": "code",
   "execution_count": 22,
   "metadata": {},
   "outputs": [],
   "source": [
    "from py2neo import Graph, Node, Relationship"
   ]
  },
  {
   "cell_type": "code",
   "execution_count": 36,
   "metadata": {},
   "outputs": [],
   "source": [
    "g = Graph(\"http://localhost:7474/db/data/\", password=\"password\")"
   ]
  },
  {
   "cell_type": "code",
   "execution_count": 37,
   "metadata": {},
   "outputs": [],
   "source": [
    "tx = g.begin()\n",
    "\n",
    "dean = Node(\"Person\", name=\"Dean\")\n",
    "james = Node(\"Person\", name=\"James\")\n",
    "guy = Node(\"Person\", name=\"Guy\")\n",
    "michele = Node(\"Person\", name=\"Michele\")\n",
    "david = Node(\"Person\", name=\"David\")\n",
    "rob = Node(\"Person\", name=\"Rob\")\n",
    "\n",
    "nodes = [dean, james, guy, michele, david, rob]\n",
    "\n",
    "for n in nodes:\n",
    "    tx.merge(n)\n",
    "\n",
    "tx.commit()"
   ]
  },
  {
   "cell_type": "code",
   "execution_count": 38,
   "metadata": {},
   "outputs": [],
   "source": [
    "# g.delete_all()"
   ]
  }
 ],
 "metadata": {
  "kernelspec": {
   "display_name": "Python 3",
   "language": "python",
   "name": "python3"
  },
  "language_info": {
   "codemirror_mode": {
    "name": "ipython",
    "version": 3
   },
   "file_extension": ".py",
   "mimetype": "text/x-python",
   "name": "python",
   "nbconvert_exporter": "python",
   "pygments_lexer": "ipython3",
   "version": "3.6.1"
  }
 },
 "nbformat": 4,
 "nbformat_minor": 2
}
